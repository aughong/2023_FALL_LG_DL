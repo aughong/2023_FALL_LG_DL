{
 "cells": [
  {
   "cell_type": "markdown",
   "metadata": {},
   "source": [
    "# NumPy를 활용한 멀티 레이어 퍼셉트론 (MLP) 구현\n",
    "\n",
    "NumPy를 활용하여,\n",
    "\n",
    "1. 다양한 활성함수를 구현한다\n",
    "2. __퍼셉트론을 구현한다__\n",
    "3. MLP를 구현한다\n",
    "\n",
    "번외. 재현성을 위한 PRNG 시드 설정을 한다"
   ]
  },
  {
   "cell_type": "markdown",
   "metadata": {},
   "source": [
    "### 퍼셉트론\n",
    "\n",
    "1. 순전파를 구현한다\n",
    "2. 손실함수를 구현한다\n",
    "3. 역전파를 구현한다\n",
    "\n",
    "<p style='text-align:center'><img src='../images/perceptron.png' width='600' height='400'/></p>\n",
    "\n",
    "$$ \\hat{y} = f(\\sum{wx}+b) $$"
   ]
  },
  {
   "cell_type": "code",
   "execution_count": null,
   "metadata": {},
   "outputs": [],
   "source": [
    "import numpy as np\n",
    "import matplotlib.pyplot as plt"
   ]
  },
  {
   "cell_type": "code",
   "execution_count": null,
   "metadata": {},
   "outputs": [],
   "source": [
    "# 순전파\n",
    "\n",
    "def forward(xs, ws):\n",
    "    outputs = []\n",
    "    for x in xs:\n",
    "        pass\n",
    "    outputs = np.asarray(outputs)\n",
    "    return outputs"
   ]
  },
  {
   "cell_type": "code",
   "execution_count": null,
   "metadata": {},
   "outputs": [],
   "source": [
    "# 역전파\n",
    "\n",
    "def backprop(xs, ys, preds, ws, lr):\n",
    "    mse_loss = 0\n",
    "    d_loss = 0\n",
    "\n",
    "    for i, y in enumerate(ys):\n",
    "        # Loss를 계산한다\n",
    "        mse_loss += (y - preds[i])**2\n",
    "\n",
    "        # 손실함수를 w로 미분한다\n",
    "        dEdW = xs[i] * np.exp(-preds[i]) / (1 + np.exp(-preds[i])**2)\n",
    "        d_loss_i = (y - preds[i]) * dEdW\n",
    "        d_loss += d_loss_i\n",
    "\n",
    "    mse_loss = mse_loss / (2 * len(ys))\n",
    "    d_loss = d_loss * 2 / len(ys)\n",
    "\n",
    "    # Weight를 업데이트한다\n",
    "    \n",
    "    return ws, mse_loss"
   ]
  },
  {
   "cell_type": "code",
   "execution_count": null,
   "metadata": {},
   "outputs": [],
   "source": [
    "xs = np.asarray([[0, 0, 1, 0],\n",
    "                 [0, 0, 1, 1],\n",
    "                 [0, 1, 0, 0],\n",
    "                 [0, 1, 1, 1],\n",
    "                 [0, 1, 0, 1],\n",
    "                 [1, 0, 1, 0],\n",
    "                 [1, 0, 1, 1],\n",
    "                 [1, 1, 1, 1]])\n",
    "\n",
    "ys = np.asarray([[0, 0, 0, 0, 1, 1, 1, 1]]).transpose()\n",
    "\n",
    "ws = 2 * np.random.default_rng().random((4, 1)) - 1\n",
    "\n",
    "lr = 0.05\n",
    "\n",
    "losses = []\n",
    "for _ in range(5000):\n",
    "    preds = forward(xs, ws)\n",
    "    ws, mse_loss = backprop(xs, ys, preds, ws, lr)\n",
    "    losses.append(sum(mse_loss))\n",
    "\n",
    "results = np.where(preds < 0.5 , 0, 1)\n",
    "\n",
    "print(results)"
   ]
  },
  {
   "cell_type": "code",
   "execution_count": null,
   "metadata": {},
   "outputs": [],
   "source": [
    "# Loss 변화 시각화\n"
   ]
  },
  {
   "cell_type": "code",
   "execution_count": null,
   "metadata": {},
   "outputs": [],
   "source": []
  }
 ],
 "metadata": {
  "kernelspec": {
   "display_name": "lg",
   "language": "python",
   "name": "python3"
  },
  "language_info": {
   "codemirror_mode": {
    "name": "ipython",
    "version": 3
   },
   "file_extension": ".py",
   "mimetype": "text/x-python",
   "name": "python",
   "nbconvert_exporter": "python",
   "pygments_lexer": "ipython3",
   "version": "3.10.13"
  }
 },
 "nbformat": 4,
 "nbformat_minor": 2
}
